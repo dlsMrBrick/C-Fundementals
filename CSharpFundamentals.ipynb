{
 "cells": [
  {
   "cell_type": "markdown",
   "metadata": {},
   "source": [
    "# Introduction to C# Programming\n",
    "\n",
    "Welcome to this interactive C# programming tutorial! In this notebook, we'll learn the fundamental concepts of C# programming language.\n",
    "\n",
    "## Learning Objectives\n",
    "- Understand basic C# syntax\n",
    "- Learn about variables and data types\n",
    "- Work with control structures\n",
    "- Understand functions and methods\n",
    "- Learn about classes and objects"
   ]
  },
  {
   "cell_type": "markdown",
   "metadata": {},
   "source": [
    "## 1. Hello, World!\n",
    "Let's start with the traditional 'Hello, World!' program."
   ]
  },
  {
   "cell_type": "code",
   "execution_count": null,
   "metadata": {},
   "source": [
    "Console.WriteLine(\"Hello, World!\");"
   ]
  },
  {
   "cell_type": "markdown",
   "metadata": {},
   "source": [
    "## 2. Variables and Data Types\n",
    "C# is a strongly-typed language. Let's explore different data types."
   ]
  },
  {
   "cell_type": "code",
   "execution_count": null,
   "metadata": {},
   "source": [
    "// Numeric types\n",
    "int number = 42;\n",
    "double pi = 3.14159;\n",
    "decimal price = 19.99m;\n",
    "\n",
    "// String and character\n",
    "string name = \"John Doe\";\n",
    "char grade = 'A';\n",
    "\n",
    "// Boolean\n",
    "bool isStudent = true;\n",
    "\n",
    "// Output all variables\n",
    "Console.WriteLine($\"Number: {number}\");\n",
    "Console.WriteLine($\"Pi: {pi}\");\n",
    "Console.WriteLine($\"Price: {price}\");\n",
    "Console.WriteLine($\"Name: {name}\");\n",
    "Console.WriteLine($\"Grade: {grade}\");\n",
    "Console.WriteLine($\"Is Student: {isStudent}\");"
   ]
  },
  {
   "cell_type": "markdown",
   "metadata": {},
   "source": [
    "## 3. Control Structures\n",
    "### 3.1 If Statements"
   ]
  },
  {
   "cell_type": "code",
   "execution_count": null,
   "metadata": {},
   "source": [
    "int age = 18;\n",
    "\n",
    "if (age >= 18)\n",
    "{\n",
    "    Console.WriteLine(\"You are an adult\");\n",
    "}\n",
    "else\n",
    "{\n",
    "    Console.WriteLine(\"You are a minor\");\n",
    "}"
   ]
  },
  {
   "cell_type": "markdown",
   "metadata": {},
   "source": [
    "### 3.2 Loops"
   ]
  },
  {
   "cell_type": "code",
   "execution_count": null,
   "metadata": {},
   "source": [
    "// For loop\n",
    "Console.WriteLine(\"For Loop:\");\n",
    "for (int i = 0; i < 5; i++)\n",
    "{\n",
    "    Console.WriteLine($\"Iteration {i}\");\n",
    "}\n",
    "\n",
    "// While loop\n",
    "Console.WriteLine(\"\\nWhile Loop:\");\n",
    "int counter = 0;\n",
    "while (counter < 3)\n",
    "{\n",
    "    Console.WriteLine($\"Counter: {counter}\");\n",
    "    counter++;\n",
    "}"
   ]
  },
  {
   "cell_type": "markdown",
   "metadata": {},
   "source": [
    "## 4. Functions and Methods\n",
    "Let's create some simple functions."
   ]
  },
  {
   "cell_type": "code",
   "execution_count": null,
   "metadata": {},
   "source": [
    "// Function to calculate square\n",
    "static int Square(int number)\n",
    "{\n",
    "    return number * number;\n",
    "}\n",
    "\n",
    "// Function to greet someone\n",
    "static string Greet(string name)\n",
    "{\n",
    "    return $\"Hello, {name}!\";\n",
    "}\n",
    "\n",
    "// Test the functions\n",
    "Console.WriteLine(Square(5));\n",
    "Console.WriteLine(Greet(\"Alice\"));"
   ]
  },
  {
   "cell_type": "markdown",
   "metadata": {},
   "source": [
    "## 5. Classes and Objects\n",
    "Object-Oriented Programming is a fundamental concept in C#."
   ]
  },
  {
   "cell_type": "code",
   "execution_count": null,
   "metadata": {},
   "source": [
    "public class Student\n",
    "{\n",
    "    // Properties\n",
    "    public string Name { get; set; }\n",
    "    public int Age { get; set; }\n",
    "    public string Major { get; set; }\n",
    "\n",
    "    // Constructor\n",
    "    public Student(string name, int age, string major)\n",
    "    {\n",
    "        Name = name;\n",
    "        Age = age;\n",
    "        Major = major;\n",
    "    }\n",
    "\n",
    "    // Method\n",
    "    public void Introduce()\n",
    "    {\n",
    "        Console.WriteLine($\"Hi, I'm {Name}, {Age} years old, studying {Major}.\");\n",
    "    }\n",
    "}\n",
    "\n",
    "// Create and use a Student object\n",
    "var student = new Student(\"Jane Smith\", 20, \"Computer Science\");\n",
    "student.Introduce();"
   ]
  },
  {
   "cell_type": "markdown",
   "metadata": {},
   "source": [
    "## 6. Exercise\n",
    "Now it's your turn! Create a program that:\n",
    "1. Creates a list of numbers\n",
    "2. Filters out even numbers\n",
    "3. Squares the remaining numbers\n",
    "4. Calculates their average\n",
    "\n",
    "Here's the template to get you started:"
   ]
  },
  {
   "cell_type": "code",
   "execution_count": null,
   "metadata": {},
   "source": [
    "List<int> numbers = new List<int> { 1, 2, 3, 4, 5, 6, 7, 8, 9, 10 };\n",
    "\n",
    "// Your code here\n",
    "// Hint: Use LINQ methods like Where, Select, and Average"
   ]
  },
  {
   "cell_type": "markdown",
   "metadata": {},
   "source": [
    "## Solution"
   ]
  },
  {
   "cell_type": "code",
   "execution_count": null,
   "metadata": {},
   "source": [
    "List<int> numbers = new List<int> { 1, 2, 3, 4, 5, 6, 7, 8, 9, 10 };\n",
    "\n",
    "double average = numbers\n",
    "    .Where(n => n % 2 != 0)     // Filter odd numbers\n",
    "    .Select(n => n * n)         // Square each number\n",
    "    .Average();                 // Calculate average\n",
    "\n",
    "Console.WriteLine($\"The average of squared odd numbers is: {average}\");"
   ]
  },
  {
   "cell_type": "markdown",
   "metadata": {},
   "source": [
    "## Conclusion\n",
    "\n",
    "In this notebook, we've covered:\n",
    "- Basic C# syntax and structure\n",
    "- Variables and data types\n",
    "- Control structures (if statements and loops)\n",
    "- Functions and methods\n",
    "- Classes and objects\n",
    "- LINQ operations\n",
    "\n",
    "Practice these concepts and try creating your own programs!\n",
    "\n",
    "### Additional Resources\n",
    "- [Microsoft C# Documentation](https://docs.microsoft.com/en-us/dotnet/csharp/)\n",
    "- [C# Programming Guide](https://docs.microsoft.com/en-us/dotnet/csharp/programming-guide/)\n",
    "- [.NET Documentation](https://docs.microsoft.com/en-us/dotnet/)"
   ]
  }
 ],
 "metadata": {
  "kernelspec": {
   "display_name": ".NET (C#)",
   "language": "C#",
   "name": "dotnet-csharp"
  },
  "language_info": {
   "file_extension": ".cs",
   "mimetype": "text/x-csharp",
   "name": "C#",
   "pygments_lexer": "csharp",
   "version": "8.0"
  }
 },
 "nbformat": 4,
 "nbformat_minor": 4
}