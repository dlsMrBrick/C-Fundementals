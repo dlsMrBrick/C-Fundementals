{
 "cells": [
  {
   "cell_type": "markdown",
   "metadata": {},
   "source": [
    "# Error Handling and Validation\n",
    "\n",
    "## Exercise 1: Input Validation\n",
    "Implement comprehensive input validation for a student registration system."
   ]
  },
  {
   "cell_type": "code",
   "execution_count": null,
   "metadata": {},
   "source": [
    "public class StudentValidator\n",
    "{\n",
    "    public static (bool isValid, string error) ValidateStudent(string name, int age, string email)\n",
    "    {\n",
    "        // Name validation\n",
    "        if (string.IsNullOrWhiteSpace(name))\n",
    "            return (false, \"Name cannot be empty\");\n",
    "        if (name.Length < 2)\n",
    "            return (false, \"Name must be at least 2 characters long\");\n",
    "\n",
    "        // Age validation\n",
    "        if (age < 16 || age > 120)\n",
    "            return (false, \"Age must be between 16 and 120\");\n",
    "\n",
    "        // Email validation (basic)\n",
    "        if (!email.Contains(\"@\") || !email.Contains(\".\"))\n",
    "            return (false, \"Invalid email format\");\n",
    "\n",
    "        return (true, string.Empty);\n",
    "    }\n",
    "}\n",
    "\n",
    "// Test the validator\n",
    "string[] testNames = { \"\", \"J\", \"John Doe\" };\n",
    "int[] testAges = { 15, 25, 121 };\n",
    "string[] testEmails = { \"invalid\", \"john@example.com\", \"no-at.com\" };\n",
    "\n",
    "foreach (var name in testNames)\n",
    "{\n",
    "    var result = StudentValidator.ValidateStudent(name, 20, \"test@example.com\");\n",
    "    Console.WriteLine($\"Name '{name}': {(result.isValid ? \"Valid\" : result.error)}\");\n",
    "}"
   ]
  },
  {
   "cell_type": "markdown",
   "metadata": {},
   "source": [
    "## Exercise 2: Exception Handling\n",
    "Practice different types of exception handling scenarios."
   ]
  },
  {
   "cell_type": "code",
   "execution_count": null,
   "metadata": {},
   "source": [
    "public class ExceptionHandlingDemo\n",
    "{\n",
    "    public static void DivideNumbers(int a, int b)\n",
    "    {\n",
    "        try\n",
    "        {\n",
    "            int result = a / b;\n",
    "            Console.WriteLine($\"Result: {result}\");\n",
    "        }\n",
    "        catch (DivideByZeroException)\n",
    "        {\n",
    "            Console.WriteLine(\"Error: Cannot divide by zero\");\n",
    "        }\n",
    "        catch (Exception ex)\n",
    "        {\n",
    "            Console.WriteLine($\"Unexpected error: {ex.Message}\");\n",
    "        }\n",
    "        finally\n",
    "        {\n",
    "            Console.WriteLine(\"Operation completed\");\n",
    "        }\n",
    "    }\n",
    "}\n",
    "\n",
    "// Test exception handling\n",
    "ExceptionHandlingDemo.DivideNumbers(10, 2);\n",
    "ExceptionHandlingDemo.DivideNumbers(10, 0);"
   ]
  }
 ],
 "metadata": {
  "kernelspec": {
   "display_name": ".NET (C#)",
   "language": "C#",
   "name": "dotnet-csharp"
  }
 }
}