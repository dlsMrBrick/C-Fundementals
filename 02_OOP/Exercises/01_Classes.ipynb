{
 "cells": [
  {
   "cell_type": "markdown",
   "metadata": {},
   "source": [
    "# Practice Exercises: Classes and Objects\n",
    "\n",
    "## Exercise 1: Create a Student Class\n",
    "Design a class to represent a student with appropriate properties and methods."
   ]
  },
  {
   "cell_type": "code",
   "execution_count": null,
   "metadata": {},
   "source": [
    "public class Student\n",
    "{\n",
    "    // Properties\n",
    "    public int StudentId { get; private set; }\n",
    "    public string FirstName { get; set; }\n",
    "    public string LastName { get; set; }\n",
    "    private float gpa;\n",
    "\n",
    "    // Constructor\n",
    "    public Student(int id, string firstName, string lastName)\n",
    "    {\n",
    "        StudentId = id;\n",
    "        FirstName = firstName;\n",
    "        LastName = lastName;\n",
    "        gpa = 0.0f;\n",
    "    }\n",
    "\n",
    "    // Method to update GPA with validation\n",
    "    public bool UpdateGPA(float newGPA)\n",
    "    {\n",
    "        if (newGPA >= 0.0 && newGPA <= 4.0)\n",
    "        {\n",
    "            gpa = newGPA;\n",
    "            return true;\n",
    "        }\n",
    "        return false;\n",
    "    }\n",
    "\n",
    "    // Method to get full name\n",
    "    public string GetFullName()\n",
    "    {\n",
    "        return $\"{FirstName} {LastName}\";\n",
    "    }\n",
    "}\n",
    "\n",
    "// Test the Student class\n",
    "Student student = new Student(1001, \"Jane\", \"Doe\");\n",
    "student.UpdateGPA(3.75f);\n",
    "Console.WriteLine($\"Student: {student.GetFullName()}\");"
   ]
  }
 ],
 "metadata": {
  "kernelspec": {
   "display_name": ".NET (C#)",
   "language": "C#",
   "name": "dotnet-csharp"
  }
 }
}