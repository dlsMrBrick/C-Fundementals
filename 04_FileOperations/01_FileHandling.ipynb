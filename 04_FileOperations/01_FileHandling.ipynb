{
 "cells": [
  {
   "cell_type": "markdown",
   "metadata": {},
   "source": [
    "# File Operations in C#\n",
    "\n",
    "## Exercise 1: Text File Operations\n",
    "Read and write data to text files using proper error handling."
   ]
  },
  {
   "cell_type": "code",
   "execution_count": null,
   "metadata": {},
   "source": [
    "// Writing to a text file\n",
    "string[] lines = {\n",
    "    \"John,85,Mathematics\",\n",
    "    \"Sarah,92,Physics\",\n",
    "    \"Mike,78,Chemistry\"\n",
    "};\n",
    "\n",
    "try\n",
    "{\n",
    "    File.WriteAllLines(\"grades.txt\", lines);\n",
    "    Console.WriteLine(\"Data written successfully!\");\n",
    "    \n",
    "    // Reading from the text file\n",
    "    string[] readLines = File.ReadAllLines(\"grades.txt\");\n",
    "    foreach (string line in readLines)\n",
    "    {\n",
    "        Console.WriteLine(line);\n",
    "    }\n",
    "}\n",
    "catch (IOException ex)\n",
    "{\n",
    "    Console.WriteLine($\"Error: {ex.Message}\");\n",
    "}"
   ]
  },
  {
   "cell_type": "markdown",
   "metadata": {},
   "source": [
    "## Exercise 2: CSV File Processing\n",
    "Parse and process CSV data with proper validation."
   ]
  },
  {
   "cell_type": "code",
   "execution_count": null,
   "metadata": {},
   "source": [
    "using System.Text;\n",
    "\n",
    "public class Student\n",
    "{\n",
    "    public string Name { get; set; }\n",
    "    public int Score { get; set; }\n",
    "    public string Subject { get; set; }\n",
    "}\n",
    "\n",
    "List<Student> students = new List<Student>();\n",
    "\n",
    "try\n",
    "{\n",
    "    string[] lines = File.ReadAllLines(\"grades.txt\");\n",
    "    foreach (string line in lines)\n",
    "    {\n",
    "        string[] parts = line.Split(',');\n",
    "        if (parts.Length == 3 && int.TryParse(parts[1], out int score))\n",
    "        {\n",
    "            students.Add(new Student\n",
    "            {\n",
    "                Name = parts[0],\n",
    "                Score = score,\n",
    "                Subject = parts[2]\n",
    "            });\n",
    "        }\n",
    "    }\n",
    "\n",
    "    // Display processed data\n",
    "    foreach (var student in students)\n",
    "    {\n",
    "        Console.WriteLine($\"{student.Name} scored {student.Score} in {student.Subject}\");\n",
    "    }\n",
    "}\n",
    "catch (Exception ex)\n",
    "{\n",
    "    Console.WriteLine($\"Error processing CSV: {ex.Message}\");\n",
    "}"
   ]
  }
 ],
 "metadata": {
  "kernelspec": {
   "display_name": ".NET (C#)",
   "language": "C#",
   "name": "dotnet-csharp"
  }
 }
}