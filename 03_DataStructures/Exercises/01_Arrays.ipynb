{
 "cells": [
  {
   "cell_type": "markdown",
   "metadata": {},
   "source": [
    "# Practice Exercises: Arrays\n",
    "\n",
    "## Exercise 1: Working with 1D Arrays\n",
    "Create and manipulate a one-dimensional array of student scores."
   ]
  },
  {
   "cell_type": "code",
   "execution_count": null,
   "metadata": {},
   "source": [
    "// Create an array of scores\n",
    "int[] scores = { 85, 92, 78, 95, 88 };\n",
    "\n",
    "// Calculate average score\n",
    "float average = 0;\n",
    "foreach (int score in scores)\n",
    "{\n",
    "    average += score;\n",
    "}\n",
    "average /= scores.Length;\n",
    "\n",
    "// Find highest score\n",
    "int highest = scores[0];\n",
    "foreach (int score in scores)\n",
    "{\n",
    "    if (score > highest)\n",
    "        highest = score;\n",
    "}\n",
    "\n",
    "Console.WriteLine($\"Average Score: {average:F2}\");\n",
    "Console.WriteLine($\"Highest Score: {highest}\");"
   ]
  },
  {
   "cell_type": "markdown",
   "metadata": {},
   "source": [
    "## Exercise 2: 2D Array - Grade Matrix\n",
    "Create and manipulate a two-dimensional array representing student grades across subjects."
   ]
  },
  {
   "cell_type": "code",
   "execution_count": null,
   "metadata": {},
   "source": [
    "// Create a 2D array of grades (3 students, 4 subjects)\n",
    "int[,] grades = {\n",
    "    { 85, 90, 82, 88 },\n",
    "    { 92, 95, 89, 91 },\n",
    "    { 78, 85, 80, 82 }\n",
    "};\n",
    "\n",
    "// Calculate average for each student\n",
    "for (int student = 0; student < grades.GetLength(0); student++)\n",
    "{\n",
    "    float studentAverage = 0;\n",
    "    for (int subject = 0; subject < grades.GetLength(1); subject++)\n",
    "    {\n",
    "        studentAverage += grades[student, subject];\n",
    "    }\n",
    "    studentAverage /= grades.GetLength(1);\n",
    "    Console.WriteLine($\"Student {student + 1} Average: {studentAverage:F2}\");\n",
    "}"
   ]
  }
 ],
 "metadata": {
  "kernelspec": {
   "display_name": ".NET (C#)",
   "language": "C#",
   "name": "dotnet-csharp"
  }
 }
}