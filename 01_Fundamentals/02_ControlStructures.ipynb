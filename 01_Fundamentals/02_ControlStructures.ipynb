{
 "cells": [
  {
   "cell_type": "markdown",
   "metadata": {},
   "source": [
    "# Control Structures in C#\n",
    "\n",
    "## Learning Objectives\n",
    "- Understand sequence, selection, and iteration\n",
    "- Learn to use conditional statements\n",
    "- Master different types of loops\n",
    "\n",
    "## 1. Selection Structures\n",
    "\n",
    "### If Statements"
   ]
  },
  {
   "cell_type": "code",
   "execution_count": null,
   "metadata": {},
   "source": [
    "int score = 85;\n",
    "\n",
    "if (score >= 90)\n",
    "{\n",
    "    Console.WriteLine(\"Grade: A\");\n",
    "}\n",
    "else if (score >= 80)\n",
    "{\n",
    "    Console.WriteLine(\"Grade: B\");\n",
    "}\n",
    "else\n",
    "{\n",
    "    Console.WriteLine(\"Grade: C\");\n",
    "}"
   ]
  },
  {
   "cell_type": "markdown",
   "metadata": {},
   "source": [
    "### Switch Statements"
   ]
  },
  {
   "cell_type": "code",
   "execution_count": null,
   "metadata": {},
   "source": [
    "char grade = 'B';\n",
    "\n",
    "switch (grade)\n",
    "{\n",
    "    case 'A':\n",
    "        Console.WriteLine(\"Excellent!\");\n",
    "        break;\n",
    "    case 'B':\n",
    "        Console.WriteLine(\"Good job!\");\n",
    "        break;\n",
    "    default:\n",
    "        Console.WriteLine(\"Keep working hard!\");\n",
    "        break;\n",
    "}"
   ]
  },
  {
   "cell_type": "markdown",
   "metadata": {},
   "source": [
    "## 2. Iteration Structures\n",
    "\n",
    "### For Loop"
   ]
  },
  {
   "cell_type": "code",
   "execution_count": null,
   "metadata": {},
   "source": [
    "// Print numbers 1 to 5\n",
    "for (int i = 1; i <= 5; i++)\n",
    "{\n",
    "    Console.WriteLine($\"Number: {i}\");\n",
    "}"
   ]
  },
  {
   "cell_type": "markdown",
   "metadata": {},
   "source": [
    "### While Loop"
   ]
  },
  {
   "cell_type": "code",
   "execution_count": null,
   "metadata": {},
   "source": [
    "int counter = 0;\n",
    "while (counter < 3)\n",
    "{\n",
    "    Console.WriteLine($\"Counter: {counter}\");\n",
    "    counter++;\n",
    "}"
   ]
  },
  {
   "cell_type": "markdown",
   "metadata": {},
   "source": [
    "## Practice Exercise\n",
    "\n",
    "Create a program that:\n",
    "1. Takes a number as input\n",
    "2. Checks if it's positive, negative, or zero\n",
    "3. If positive, counts down to zero\n",
    "4. If negative, counts up to zero"
   ]
  },
  {
   "cell_type": "code",
   "execution_count": null,
   "metadata": {},
   "source": [
    "// Your code here"
   ]
  }
 ],
 "metadata": {
  "kernelspec": {
   "display_name": ".NET (C#)",
   "language": "C#",
   "name": "dotnet-csharp"
  }
 }
}