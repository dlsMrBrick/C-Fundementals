{
 "cells": [
  {
   "cell_type": "markdown",
   "metadata": {},
   "source": [
    "# Practice Exercises: Control Flow\n",
    "\n",
    "## Exercise 1: Grade Calculator\n",
    "Create a program that calculates letter grades based on numerical scores."
   ]
  },
  {
   "cell_type": "code",
   "execution_count": null,
   "metadata": {},
   "source": [
    "int score = 85;\n",
    "string grade;\n",
    "\n",
    "if (score >= 90)\n",
    "    grade = \"A\";\n",
    "else if (score >= 80)\n",
    "    grade = \"B\";\n",
    "else if (score >= 70)\n",
    "    grade = \"C\";\n",
    "else if (score >= 60)\n",
    "    grade = \"D\";\n",
    "else\n",
    "    grade = \"F\";\n",
    "\n",
    "Console.WriteLine($\"Score: {score}\");\n",
    "Console.WriteLine($\"Grade: {grade}\");"
   ]
  },
  {
   "cell_type": "markdown",
   "metadata": {},
   "source": [
    "## Exercise 2: Number Pattern\n",
    "Create a program that prints a pattern of numbers using nested loops."
   ]
  },
  {
   "cell_type": "code",
   "execution_count": null,
   "metadata": {},
   "source": [
    "int rows = 5;\n",
    "\n",
    "for (int i = 1; i <= rows; i++)\n",
    "{\n",
    "    for (int j = 1; j <= i; j++)\n",
    "    {\n",
    "        Console.Write(j + \" \");\n",
    "    }\n",
    "    Console.WriteLine();\n",
    "}"
   ]
  }
 ],
 "metadata": {
  "kernelspec": {
   "display_name": ".NET (C#)",
   "language": "C#",
   "name": "dotnet-csharp"
  }
 }
}