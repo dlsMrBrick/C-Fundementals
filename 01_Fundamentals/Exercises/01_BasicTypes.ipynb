{
 "cells": [
  {
   "cell_type": "markdown",
   "metadata": {},
   "source": [
    "# Practice Exercises: Basic Types and Variables\n",
    "\n",
    "## Exercise 1: Student Record\n",
    "Create variables to store student information using appropriate data types and naming conventions."
   ]
  },
  {
   "cell_type": "code",
   "execution_count": null,
   "metadata": {},
   "source": [
    "// Exercise 1: Create and display student information\n",
    "int studentId = 1001;\n",
    "string firstName = \"John\";\n",
    "string lastName = \"Smith\";\n",
    "float gpa = 3.75f;\n",
    "bool isActive = true;\n",
    "\n",
    "Console.WriteLine($\"Student ID: {studentId}\");\n",
    "Console.WriteLine($\"Name: {firstName} {lastName}\");\n",
    "Console.WriteLine($\"GPA: {gpa}\");\n",
    "Console.WriteLine($\"Active Status: {isActive}\");"
   ]
  },
  {
   "cell_type": "markdown",
   "metadata": {},
   "source": [
    "## Exercise 2: Type Conversion\n",
    "Practice converting between different data types safely."
   ]
  },
  {
   "cell_type": "code",
   "execution_count": null,
   "metadata": {},
   "source": [
    "// Exercise 2: Type conversion examples\n",
    "string numberText = \"42\";\n",
    "int number = int.Parse(numberText);\n",
    "float floatNumber = number;  // Implicit conversion\n",
    "string backToText = number.ToString();\n",
    "\n",
    "Console.WriteLine($\"String to Int: {number}\");\n",
    "Console.WriteLine($\"Int to Float: {floatNumber}\");\n",
    "Console.WriteLine($\"Back to String: {backToText}\");"
   ]
  }
 ],
 "metadata": {
  "kernelspec": {
   "display_name": ".NET (C#)",
   "language": "C#",
   "name": "dotnet-csharp"
  }
 }
}