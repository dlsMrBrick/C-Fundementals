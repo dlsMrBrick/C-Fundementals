{
 "cells": [
  {
   "cell_type": "markdown",
   "metadata": {},
   "source": [
    "# Data Types in C#\n",
    "\n",
    "## Learning Objectives\n",
    "- Understand fundamental data types in C#\n",
    "- Learn about type conversion and type checking\n",
    "- Practice variable declarations and naming conventions\n",
    "\n",
    "## Basic Data Types\n",
    "\n",
    "C# supports various data types as outlined in our curriculum:\n",
    "1. Text Types\n",
    "   - char (single character)\n",
    "   - string (text)\n",
    "2. Numeric Types\n",
    "   - int (whole numbers)\n",
    "   - float (decimal numbers)\n",
    "   - double (larger decimal numbers)\n",
    "   - DateTime (date and time values)\n",
    "3. Boolean Type\n",
    "   - bool (true/false)\n",
    "\n",
    "Let's explore each type with examples:"
   ]
  },
  {
   "cell_type": "code",
   "execution_count": null,
   "metadata": {},
   "source": [
    "// Text types\n",
    "char letter = 'A';\n",
    "string name = \"John Doe\";\n",
    "\n",
    "// Numeric types\n",
    "int age = 25;\n",
    "float price = 19.99f;\n",
    "double pi = 3.14159265359;\n",
    "DateTime today = DateTime.Now;\n",
    "\n",
    "// Boolean type\n",
    "bool isStudent = true;\n",
    "\n",
    "// Display all variables\n",
    "Console.WriteLine($\"Letter: {letter}\");\n",
    "Console.WriteLine($\"Name: {name}\");\n",
    "Console.WriteLine($\"Age: {age}\");\n",
    "Console.WriteLine($\"Price: {price}\");\n",
    "Console.WriteLine($\"Pi: {pi}\");\n",
    "Console.WriteLine($\"Today: {today}\");\n",
    "Console.WriteLine($\"Is Student: {isStudent}\");"
   ]
  },
  {
   "cell_type": "markdown",
   "metadata": {},
   "source": [
    "## Naming Conventions\n",
    "\n",
    "In C#, we follow these naming conventions:\n",
    "\n",
    "1. Camel Case (for local variables)\n",
    "   - firstName\n",
    "   - lastLoginDate\n",
    "\n",
    "2. Pascal Case (for classes, methods)\n",
    "   - StudentRecord\n",
    "   - CalculateTotal\n",
    "\n",
    "Let's practice proper naming:"
   ]
  },
  {
   "cell_type": "code",
   "execution_count": null,
   "metadata": {},
   "source": [
    "// Good naming examples\n",
    "string firstName = \"Jane\";\n",
    "string lastName = \"Smith\";\n",
    "int totalScore = 95;\n",
    "DateTime lastLoginDate = DateTime.Now;\n",
    "\n",
    "// Display using string interpolation\n",
    "Console.WriteLine($\"Student: {firstName} {lastName}\");\n",
    "Console.WriteLine($\"Score: {totalScore}\");\n",
    "Console.WriteLine($\"Last Login: {lastLoginDate}\");"
   ]
  },
  {
   "cell_type": "markdown",
   "metadata": {},
   "source": [
    "## Practice Exercise\n",
    "\n",
    "Create variables to store student information using appropriate data types and naming conventions:"
   ]
  },
  {
   "cell_type": "code",
   "execution_count": null,
   "metadata": {},
   "source": [
    "// TODO: Create variables for:\n",
    "// 1. Student ID (integer)\n",
    "// 2. Student Name (string)\n",
    "// 3. Grade Point Average (float)\n",
    "// 4. Is Active Student (boolean)\n",
    "// 5. Enrollment Date (DateTime)\n",
    "\n",
    "// Your code here"
   ]
  }
 ],
 "metadata": {
  "kernelspec": {
   "display_name": ".NET (C#)",
   "language": "C#",
   "name": "dotnet-csharp"
  }
 }
}